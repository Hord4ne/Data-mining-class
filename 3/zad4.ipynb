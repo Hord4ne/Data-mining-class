{
 "cells": [
  {
   "cell_type": "code",
   "execution_count": 9,
   "metadata": {},
   "outputs": [],
   "source": [
    "import numpy as np\n",
    "import imageio"
   ]
  },
  {
   "cell_type": "code",
   "execution_count": 64,
   "metadata": {},
   "outputs": [],
   "source": [
    "def get_distances_matrix(points_A,points_B):    \n",
    "    return (-2*np.dot(points_A,points_B.T) + np.sum(points_B**2,axis=1) + np.sum(points_A**2,axis=1)[:,np.newaxis])"
   ]
  },
  {
   "cell_type": "code",
   "execution_count": 65,
   "metadata": {},
   "outputs": [],
   "source": [
    "def get_closest_r(points,r_vector):\n",
    "    distances = get_distances_matrix(r_vector, points).T\n",
    "    return np.argmin(distances,axis=1)"
   ]
  },
  {
   "cell_type": "code",
   "execution_count": null,
   "metadata": {},
   "outputs": [],
   "source": []
  },
  {
   "cell_type": "code",
   "execution_count": 66,
   "metadata": {},
   "outputs": [],
   "source": [
    "def k_means(points, k, T = 100):\n",
    "    random_vector = np.random.choice(np.arange(0,k,1),k,False)\n",
    "    r_vector = points[random_vector]\n",
    "    #print r_vector.shape #\n",
    "    old_r_vector = r_vector\n",
    "    i = 0\n",
    "    arange_0_k = np.arange(0,k,1)[:,np.newaxis]\n",
    "    while i <= T:\n",
    "        i += 1\n",
    "        closest_r = get_closest_r(points,r_vector)\n",
    "        old_r_vector = r_vector.copy()\n",
    "#         for i in range(k):\n",
    "#             closest_point = points[closest_r == i]\n",
    "#             r_vector[i] = np.mean(points[closest_r == i],axis = 0)\n",
    "\n",
    "        indicies = arange_0_k == closest_r\n",
    "        r_vector = np.dot(indicies.astype(int),points) / np.maximum(np.sum(indicies,axis=1)[:,np.newaxis],1)\n",
    "        if np.all(old_r_vector == r_vector):\n",
    "            break             \n",
    "    return r_vector, get_closest_r(points,r_vector)      "
   ]
  },
  {
   "cell_type": "code",
   "execution_count": 67,
   "metadata": {},
   "outputs": [],
   "source": [
    "loa = imageio.imread('1.jpg')"
   ]
  },
  {
   "cell_type": "code",
   "execution_count": 68,
   "metadata": {
    "scrolled": true
   },
   "outputs": [
    {
     "data": {
      "text/plain": [
       "Image([[[45, 16, 34],\n",
       "        [45, 16, 34],\n",
       "        [45, 16, 34],\n",
       "        ...,\n",
       "        [40, 32, 56],\n",
       "        [40, 32, 56],\n",
       "        [44, 32, 56]],\n",
       "\n",
       "       [[45, 16, 34],\n",
       "        [45, 16, 34],\n",
       "        [45, 16, 34],\n",
       "        ...,\n",
       "        [40, 32, 56],\n",
       "        [42, 32, 57],\n",
       "        [46, 32, 57]],\n",
       "\n",
       "       [[43, 16, 33],\n",
       "        [43, 16, 33],\n",
       "        [43, 16, 33],\n",
       "        ...,\n",
       "        [43, 30, 56],\n",
       "        [45, 31, 57],\n",
       "        [47, 31, 57]],\n",
       "\n",
       "       ...,\n",
       "\n",
       "       [[60, 60, 96],\n",
       "        [60, 60, 96],\n",
       "        [61, 61, 97],\n",
       "        ...,\n",
       "        [35, 25, 49],\n",
       "        [35, 25, 49],\n",
       "        [36, 26, 50]],\n",
       "\n",
       "       [[60, 60, 96],\n",
       "        [60, 60, 96],\n",
       "        [61, 61, 97],\n",
       "        ...,\n",
       "        [28, 20, 41],\n",
       "        [29, 21, 42],\n",
       "        [30, 22, 43]],\n",
       "\n",
       "       [[58, 60, 98],\n",
       "        [58, 60, 98],\n",
       "        [59, 61, 99],\n",
       "        ...,\n",
       "        [23, 16, 34],\n",
       "        [24, 17, 35],\n",
       "        [25, 18, 36]]], dtype=uint8)"
      ]
     },
     "execution_count": 68,
     "metadata": {},
     "output_type": "execute_result"
    }
   ],
   "source": [
    "loa"
   ]
  },
  {
   "cell_type": "code",
   "execution_count": 69,
   "metadata": {},
   "outputs": [],
   "source": [
    "imageio.imwrite('1-kmeans.jpg',loa)"
   ]
  },
  {
   "cell_type": "code",
   "execution_count": 70,
   "metadata": {},
   "outputs": [],
   "source": [
    "def task_4(image_name, K):\n",
    "    image = imageio.imread(image_name)\n",
    "    N,M = image.shape[0],image.shape[1]\n",
    "    image = image.reshape(N*M,3)\n",
    "    \n",
    "    k_mean_res = k_means(image,K)\n",
    "    print (k_mean_res)\n",
    "    for i in range(K):\n",
    "        kth_class = k_mean_res[1] == i\n",
    "        image[kth_class] = k_mean_res[0][i]\n",
    "    imageio.imwrite('result_'+image_name ,image.reshape(N,M,3))    \n",
    "    "
   ]
  },
  {
   "cell_type": "code",
   "execution_count": 72,
   "metadata": {},
   "outputs": [
    {
     "name": "stdout",
     "output_type": "stream",
     "text": [
      "(array([[208, 101,  82],\n",
      "       [238, 163, 133],\n",
      "       [ 95,  42,  56],\n",
      "       [104,  89, 125],\n",
      "       [ 61,  28,  47],\n",
      "       [143,  67,  67],\n",
      "       [ 17,   7,  18],\n",
      "       [ 35,  19,  39]]), array([7, 7, 7, ..., 7, 7, 7], dtype=int64))\n"
     ]
    }
   ],
   "source": [
    "task_4('1.jpg',8)"
   ]
  },
  {
   "cell_type": "code",
   "execution_count": 25,
   "metadata": {},
   "outputs": [],
   "source": [
    "k = np.array([1,2,3,4,5,6])"
   ]
  },
  {
   "cell_type": "code",
   "execution_count": 30,
   "metadata": {},
   "outputs": [],
   "source": [
    "k[[True,False,True,False,False,False]] = 2"
   ]
  },
  {
   "cell_type": "code",
   "execution_count": 31,
   "metadata": {},
   "outputs": [
    {
     "data": {
      "text/plain": [
       "array([2, 2, 2, 4, 5, 6])"
      ]
     },
     "execution_count": 31,
     "metadata": {},
     "output_type": "execute_result"
    }
   ],
   "source": [
    "k"
   ]
  },
  {
   "cell_type": "code",
   "execution_count": null,
   "metadata": {},
   "outputs": [],
   "source": []
  }
 ],
 "metadata": {
  "kernelspec": {
   "display_name": "Python 2",
   "language": "python",
   "name": "python2"
  },
  "language_info": {
   "codemirror_mode": {
    "name": "ipython",
    "version": 2
   },
   "file_extension": ".py",
   "mimetype": "text/x-python",
   "name": "python",
   "nbconvert_exporter": "python",
   "pygments_lexer": "ipython2",
   "version": "2.7.14"
  }
 },
 "nbformat": 4,
 "nbformat_minor": 2
}
